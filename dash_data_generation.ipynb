{
 "cells": [
  {
   "cell_type": "code",
   "execution_count": 1,
   "metadata": {},
   "outputs": [],
   "source": [
    "import matplotlib.pyplot as plt\n",
    "from datetime import date\n",
    "import pandas as pd\n",
    "import numpy as np\n",
    "from alpha_vantage.timeseries import TimeSeries\n",
    "\n",
    "stock_list=['AMZN','TSLA','FB','AAPL']\n",
    "\n",
    "main_df=pd.DataFrame()\n",
    "for stock in stock_list:\n",
    "    ts = TimeSeries(key= 'INSERT YOUR API KEY HERE', output_format='pandas',indexing_type='date')\n",
    "    try:\n",
    "        data, meta_data = ts.get_daily_adjusted(symbol=stock, outputsize='full')\n",
    "        data = data.rename(index=str, columns={\"1. open\":\"Open\",\"2. high\": \"High\", \"3. low\": \"Low\",\"4. close\":\"Close\"})\n",
    "        data['Symbol']=stock\n",
    "        main_df=main_df.append(data)\n",
    "    except:\n",
    "        print(\"no data\")\n",
    "\n",
    "main_fin=main_df.filter(['Open','Close','Symbol'],axis=1)\n",
    "\n",
    "main_fin.to_csv('stock_data1.csv')"
   ]
  }
 ],
 "metadata": {
  "kernelspec": {
   "display_name": "Python 3",
   "language": "python",
   "name": "python3"
  },
  "language_info": {
   "codemirror_mode": {
    "name": "ipython",
    "version": 3
   },
   "file_extension": ".py",
   "mimetype": "text/x-python",
   "name": "python",
   "nbconvert_exporter": "python",
   "pygments_lexer": "ipython3",
   "version": "3.7.1"
  }
 },
 "nbformat": 4,
 "nbformat_minor": 2
}
